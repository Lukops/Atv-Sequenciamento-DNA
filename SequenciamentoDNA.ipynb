{
  "cells": [
    {
      "cell_type": "markdown",
      "source": [
        "## Exercício Sequenciamento de DNA\n",
        "Lucas Rodrigues Lopes // RA00298509\n",
        "\n",
        "Por meio de uma conexão USB, é possível ler essa série de picos registrados pelo detector. Os dados fornecidos pelo detector são uma sequência de números na qual cada número representa um pico do cromatograma e cada número um dos quatro nucleotídeos (subunidades) de uma cadeia de DNA da forma:\n",
        "\n",
        "* A (Adenina) = 1\n",
        "* C (Citosina) = 2\n",
        "* G (Guanina) = 3\n",
        "* T (Timina) = 4\n",
        "\n",
        "O programa deverá ler uma lista = [1,2,2,3,4,4,2,2,1,2] e mostrar a seguinte sequência de DNA ACCGTTCCAC."
      ],
      "metadata": {}
    },
    {
      "cell_type": "code",
      "source": [
        "lista = []\n",
        "\n",
        "while True:\n",
        "    sequencia_numerica = int(input(\"Entre com o valor do pico [1:4] ou [5] para sair: \"))\n",
        "    if sequencia_numerica == 1:\n",
        "        lista.append(sequencia_numerica)\n",
        "    elif sequencia_numerica == 2:\n",
        "        lista.append(sequencia_numerica)\n",
        "    elif sequencia_numerica == 3:\n",
        "        lista.append(sequencia_numerica)\n",
        "    elif sequencia_numerica == 4:\n",
        "        lista.append(sequencia_numerica)\n",
        "    elif sequencia_numerica == 5:\n",
        "        break\n",
        "    else:\n",
        "        print(\"Insira um dado correto\")\n",
        "\n",
        "print(lista)"
      ],
      "outputs": [
        {
          "output_type": "stream",
          "name": "stdout",
          "text": "Insira um dado correto\n[1, 3, 2, 4, 3, 2, 4, 1, 2, 3, 3, 4, 2]\n"
        }
      ],
      "execution_count": 8,
      "metadata": {}
    },
    {
      "cell_type": "code",
      "source": [
        "indice = 0\n",
        "sequencia_nuc = \"\"\n",
        "\n",
        "for i in range(len(lista)):\n",
        "    if lista[i] == 1:\n",
        "        sequencia_nuc += \"A\"\n",
        "    if lista[i] == 2:\n",
        "        sequencia_nuc += \"C\"\n",
        "    if lista[i] == 3:\n",
        "        sequencia_nuc += \"G\"\n",
        "    if lista[i] == 4:\n",
        "        sequencia_nuc += \"T\"    \n",
        "    indice += 1\n",
        "\n",
        "print(sequencia_nuc)"
      ],
      "outputs": [
        {
          "output_type": "stream",
          "name": "stdout",
          "text": "AGCTGCTACGGTC\n"
        }
      ],
      "execution_count": 9,
      "metadata": {}
    }
  ],
  "metadata": {
    "kernelspec": {
      "display_name": "Python 3",
      "language": "python",
      "name": "python3"
    },
    "language_info": {
      "codemirror_mode": {
        "name": "ipython",
        "version": 3
      },
      "file_extension": ".py",
      "mimetype": "text/x-python",
      "name": "python",
      "nbconvert_exporter": "python",
      "pygments_lexer": "ipython3",
      "version": "3.12.4"
    },
    "nteract": {
      "version": "nteract-front-end@1.0.0"
    }
  },
  "nbformat": 4,
  "nbformat_minor": 2
}